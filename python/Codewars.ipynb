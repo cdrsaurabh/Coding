{
 "cells": [
  {
   "cell_type": "markdown",
   "id": "2385c79c-db86-4ce7-b155-b6d415a906cd",
   "metadata": {},
   "source": [
    "## Question 1\n",
    "Take a number as a input and then form a number by arranging the digits of the number in descending order.\n",
    "For eg: \n",
    "input: 6284.  output: 8642\n"
   ]
  },
  {
   "cell_type": "code",
   "execution_count": 2,
   "id": "ef71ba68-512a-4584-97ca-fb5d02c0fb66",
   "metadata": {},
   "outputs": [
    {
     "name": "stdin",
     "output_type": "stream",
     "text": [
      "Enter any number  53876\n"
     ]
    },
    {
     "name": "stdout",
     "output_type": "stream",
     "text": [
      "The length of your no. is  5\n",
      "The descending order of your no. 53876 is\n",
      "87653\n"
     ]
    }
   ],
   "source": [
    "num = int(input(\"Enter any number \"))\n",
    "dig = [] # storing it in a list\n",
    "temp = num # storing for displying the number in future\n",
    "while (num>0):\n",
    "    dig.append(num%10) # storing the digits of the number in the list\n",
    "    num = num//10\n",
    "length = len(dig)\n",
    "print(\"The length of your no. is \",length)\n",
    "dig.sort(reverse=True) # sorting the  list dig in descending order\n",
    "output = 0\n",
    "for i in dig:\n",
    "    output =(output*10)+i # forming the number\n",
    "print(\"The descending order of your no.\",temp,\"is\",output)"
   ]
  },
  {
   "cell_type": "markdown",
   "id": "ff788c44-6128-412b-9602-5d6b8f23cf6c",
   "metadata": {},
   "source": [
    "# Question 2\n",
    "You get an array of numbers, return the sum of all of the positives ones.\n",
    "\n",
    "Example\n",
    "[1, -4, 7, 12] => 1+7+12=20"
   ]
  },
  {
   "cell_type": "code",
   "execution_count": 11,
   "id": "4445ee20-4616-4e4d-a1b8-90042b56159d",
   "metadata": {},
   "outputs": [
    {
     "name": "stdout",
     "output_type": "stream",
     "text": [
      "20\n"
     ]
    }
   ],
   "source": [
    "new_dig = [1,-4,7,12]\n",
    "leng = len(new_dig)\n",
    "new_num = 0\n",
    "for i in range(0,leng):\n",
    "    if (new_dig[i]>0):\n",
    "        new_num += new_dig[i]\n",
    "print(new_num)"
   ]
  },
  {
   "cell_type": "markdown",
   "id": "ad594ab9-8bc8-43a0-873d-070fb6be8aef",
   "metadata": {},
   "source": [
    "# Question 3\n",
    "Write function bmi that calculates body mass index (bmi = weight / height2).\n",
    "if bmi <= 18.5 return \"Underweight\"\n",
    "if bmi <= 25.0 return \"Normal\"\n",
    "if bmi <= 30.0 return \"Overweight\"\n",
    "if bmi > 30 return \"Obese\""
   ]
  },
  {
   "cell_type": "code",
   "execution_count": 4,
   "id": "76d8f7f5-0dac-43cc-8513-37264629b670",
   "metadata": {},
   "outputs": [
    {
     "name": "stdin",
     "output_type": "stream",
     "text": [
      "Enter your weight in KG 43\n",
      "Enter your height in meters 1.6\n"
     ]
    },
    {
     "data": {
      "text/plain": [
       "'Underweight'"
      ]
     },
     "execution_count": 4,
     "metadata": {},
     "output_type": "execute_result"
    }
   ],
   "source": [
    "def b_m_i(x,y):\n",
    "    bmi = (x/(y**2))\n",
    "    if bmi <= 18.5:\n",
    "        return \"Underweight\" \n",
    "    if bmi <= 25.0:\n",
    "        return \"Normal\" \n",
    "    if bmi <= 30.0:\n",
    "        return \"Overweight\" \n",
    "    if bmi > 30:\n",
    "        return \"Obese\"\n",
    "weight = float(input(\"Enter your weight in KG\"))\n",
    "height = float(input(\"Enter your height in meters\"))\n",
    "b_m_i(weight,height)"
   ]
  },
  {
   "cell_type": "code",
   "execution_count": null,
   "id": "76eca36a-1c72-4927-8bbf-a83fe98eb65f",
   "metadata": {},
   "outputs": [],
   "source": []
  }
 ],
 "metadata": {
  "kernelspec": {
   "display_name": "Python 3 (ipykernel)",
   "language": "python",
   "name": "python3"
  },
  "language_info": {
   "codemirror_mode": {
    "name": "ipython",
    "version": 3
   },
   "file_extension": ".py",
   "mimetype": "text/x-python",
   "name": "python",
   "nbconvert_exporter": "python",
   "pygments_lexer": "ipython3",
   "version": "3.13.5"
  }
 },
 "nbformat": 4,
 "nbformat_minor": 5
}
